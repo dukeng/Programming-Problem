{
 "cells": [
  {
   "cell_type": "code",
   "execution_count": 25,
   "metadata": {},
   "outputs": [
    {
     "name": "stdout",
     "output_type": "stream",
     "text": [
      "[82, 74, 4, 45, 24, 60, 76, 47, 39, 46, 40, 41, 36, 64, 84, 54, 65, 97, 52, 95, 94, 80, 99, 70, 85, 11, 59, 23, 86, 48, 63, 3, 17, 26, 21, 20, 55, 25, 78, 10, 0, 49, 31, 13, 79, 89, 5, 35, 88, 69, 37, 87, 75, 90, 98, 73, 8, 14, 28, 58, 77, 29, 56, 19, 66, 16, 27, 92, 22, 6, 50, 43, 83, 12, 44, 1, 2, 71, 38, 61, 68, 30, 62, 96, 81, 32, 91, 53, 67, 57, 33, 15, 7, 93, 9, 72, 18, 34, 51, 42]\n"
     ]
    }
   ],
   "source": [
    "#Generate random #\n",
    "\n",
    "import random\n",
    "\n",
    "array = [i for i in range(100)]\n",
    "random.shuffle(array)\n",
    "\n",
    "print(array)\n",
    "\n"
   ]
  },
  {
   "cell_type": "code",
   "execution_count": 26,
   "metadata": {},
   "outputs": [
    {
     "name": "stdout",
     "output_type": "stream",
     "text": [
      "[0, 1, 2, 3, 4, 5, 6, 7, 8, 9, 10, 11, 12, 13, 14, 15, 16, 17, 18, 19, 20, 21, 22, 23, 24, 25, 26, 27, 28, 29, 30, 31, 32, 33, 34, 35, 36, 37, 38, 39, 40, 41, 42, 43, 44, 45, 46, 47, 48, 49, 50, 51, 52, 53, 54, 55, 56, 57, 58, 59, 60, 61, 62, 63, 64, 65, 66, 67, 68, 69, 70, 71, 72, 73, 74, 75, 76, 77, 78, 79, 80, 81, 82, 83, 84, 85, 86, 87, 88, 89, 90, 91, 92, 93, 94, 95, 96, 97, 98, 99]\n"
     ]
    }
   ],
   "source": [
    "#Mergesort\n",
    "\n",
    "def merge(left, right):\n",
    "    left_i = 0 \n",
    "    right_i = 0\n",
    "    newArray = []\n",
    "    while left_i < len(left) and right_i < len(right):\n",
    "        if left[left_i] < right[right_i]:\n",
    "            newArray.append(left[left_i])\n",
    "            left_i += 1\n",
    "        else:\n",
    "            newArray.append(right[right_i])\n",
    "            right_i += 1\n",
    "    if left_i < len(left):\n",
    "        newArray = newArray + left[left_i:]\n",
    "    elif right_i < len(right):\n",
    "        newArray = newArray + right[right_i:]\n",
    "#     print(left, right, newArray)\n",
    "        \n",
    "    return newArray\n",
    "\n",
    "def mergesort(array):\n",
    "    if len(array) == 1:\n",
    "        return array\n",
    "    midLength = len(array) // 2\n",
    "    left = mergesort(array[:midLength])\n",
    "    right = mergesort(array[midLength:])\n",
    "    newArray = merge(left, right)\n",
    "#     print(newArray, left, right, array)\n",
    "    return newArray\n",
    "\n",
    "\n",
    "sortedArray = mergesort(array)\n",
    "print(sortedArray)\n"
   ]
  },
  {
   "cell_type": "code",
   "execution_count": 36,
   "metadata": {},
   "outputs": [
    {
     "name": "stdout",
     "output_type": "stream",
     "text": [
      "None\n"
     ]
    }
   ],
   "source": [
    "#Quicksort\n",
    "\n",
    "def partition(arr,low,high):\n",
    "    i = ( low-1 )         # index of smaller element\n",
    "    pivot = arr[high]     # pivot\n",
    "    for j in range(low , high):\n",
    "        if   arr[j] <= pivot:\n",
    "            i = i+1\n",
    "            arr[i],arr[j] = arr[j],arr[i]\n",
    "    arr[i+1],arr[high] = arr[high],arr[i+1]\n",
    "    return ( i+1 )\n",
    "  \n",
    "# Function to do Quick sort\n",
    "def quickSort(arr,low,high):\n",
    "    if low < high:\n",
    "        pi = partition(arr,low,high)\n",
    "        quickSort(arr, low, pi-1)\n",
    "        quickSort(arr, pi+1, high)\n",
    "        \n",
    "quickSort(array,0, len(array) - 1)\n",
    "print()\n",
    "    "
   ]
  }
 ],
 "metadata": {
  "kernelspec": {
   "display_name": "Python 3",
   "language": "python",
   "name": "python3"
  },
  "language_info": {
   "codemirror_mode": {
    "name": "ipython",
    "version": 3
   },
   "file_extension": ".py",
   "mimetype": "text/x-python",
   "name": "python",
   "nbconvert_exporter": "python",
   "pygments_lexer": "ipython3",
   "version": "3.6.4"
  }
 },
 "nbformat": 4,
 "nbformat_minor": 2
}
